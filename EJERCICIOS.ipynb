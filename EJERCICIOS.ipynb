{
  "nbformat": 4,
  "nbformat_minor": 0,
  "metadata": {
    "colab": {
      "name": "EJERCICIOS",
      "provenance": []
    },
    "kernelspec": {
      "name": "python3",
      "display_name": "Python 3"
    },
    "language_info": {
      "name": "python"
    }
  },
  "cells": [
    {
      "cell_type": "markdown",
      "source": [
        "#EJERCICIOS FOR_WHILE"
      ],
      "metadata": {
        "id": "YFnJmFvbVh4X"
      }
    },
    {
      "cell_type": "markdown",
      "source": [
        "#1.Indicar si un número N es un número primo (siendo N un número que se lee).\n"
      ],
      "metadata": {
        "id": "Rxa9M6Q0Vnnp"
      }
    },
    {
      "cell_type": "code",
      "source": [
        "N=int(input(\"Ingresa un número\"))\n",
        "\n",
        "\n",
        "if N < 1:\n",
        "\n",
        "else N\n",
        "\n",
        "       \n",
        "\n",
        "\n",
        "\n"
      ],
      "metadata": {
        "colab": {
          "base_uri": "https://localhost:8080/",
          "height": 130
        },
        "id": "jkwK2d7SVswG",
        "outputId": "0cbb06aa-baa6-4e9e-bdc9-6a8e4f4d2d7f"
      },
      "execution_count": 1,
      "outputs": [
        {
          "output_type": "error",
          "ename": "SyntaxError",
          "evalue": "ignored",
          "traceback": [
            "\u001b[0;36m  File \u001b[0;32m\"<ipython-input-1-a9bc227985a1>\"\u001b[0;36m, line \u001b[0;32m3\u001b[0m\n\u001b[0;31m    for i in range (1,N):\u001b[0m\n\u001b[0m                        ^\u001b[0m\n\u001b[0;31mSyntaxError\u001b[0m\u001b[0;31m:\u001b[0m invalid syntax\n"
          ]
        }
      ]
    },
    {
      "cell_type": "code",
      "source": [
        "N=int(input(\"Ingresa un número\"))\n",
        "    if N < 1:\n",
        "        return False\n",
        "    elif N == 2:\n",
        "        return True\n",
        "    else:\n",
        "        for i in range(2, N):\n",
        "            if N % i == 0:\n",
        "                return False\n",
        "        return True            \n",
        "\n",
        "\n",
        "    if result is True:\n",
        "        print(\"El numero es primo\")\n",
        "    else:\n",
        "        print(\"El número no es primo\")\n",
        "\n",
        "\n"
      ],
      "metadata": {
        "colab": {
          "base_uri": "https://localhost:8080/",
          "height": 130
        },
        "id": "yc96tn-NZyWv",
        "outputId": "6d02991b-2602-4ce4-dde0-cd4fe8bca354"
      },
      "execution_count": 3,
      "outputs": [
        {
          "output_type": "error",
          "ename": "IndentationError",
          "evalue": "ignored",
          "traceback": [
            "\u001b[0;36m  File \u001b[0;32m\"<ipython-input-3-4d7fb4b7145a>\"\u001b[0;36m, line \u001b[0;32m2\u001b[0m\n\u001b[0;31m    if N < 1:\u001b[0m\n\u001b[0m    ^\u001b[0m\n\u001b[0;31mIndentationError\u001b[0m\u001b[0;31m:\u001b[0m unexpected indent\n"
          ]
        }
      ]
    }
  ]
}