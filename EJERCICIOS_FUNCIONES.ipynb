{
  "nbformat": 4,
  "nbformat_minor": 0,
  "metadata": {
    "colab": {
      "provenance": [],
      "collapsed_sections": []
    },
    "kernelspec": {
      "name": "python3",
      "display_name": "Python 3"
    },
    "language_info": {
      "name": "python"
    }
  },
  "cells": [
    {
      "cell_type": "markdown",
      "source": [
        "#1. Determine el mayor de dos números."
      ],
      "metadata": {
        "id": "3RSvXVWObUJB"
      }
    },
    {
      "cell_type": "code",
      "source": [
        "def mayor1(x,y):\n",
        "  if x>y:\n",
        "    print(f\"{x} es el mayor\")\n",
        "  else:\n",
        "    print(f\"{y} es el mayor\")"
      ],
      "metadata": {
        "id": "fzTiy3qNbbGZ"
      },
      "execution_count": null,
      "outputs": []
    },
    {
      "cell_type": "code",
      "source": [
        "mayor1(1,6)"
      ],
      "metadata": {
        "colab": {
          "base_uri": "https://localhost:8080/"
        },
        "id": "upKDq_rGgoO1",
        "outputId": "8f3ee43e-f5f0-4fe5-a912-2fe8fcfdabdd"
      },
      "execution_count": null,
      "outputs": [
        {
          "output_type": "stream",
          "name": "stdout",
          "text": [
            "6 es el mayor\n"
          ]
        }
      ]
    },
    {
      "cell_type": "markdown",
      "source": [
        "#2. Determine el mayor de tres números (empleando la función anterior)."
      ],
      "metadata": {
        "id": "wdJsyoscctoY"
      }
    },
    {
      "cell_type": "code",
      "source": [
        "def mayor(a,b,c):\n",
        " if a>b and a>c:\n",
        "    print(f\"{a} es el mayor\")\n",
        " elif b>c and b>a:\n",
        "    print(f\"{b} es el mayor\")\n",
        " else:\n",
        "    print(f\"{c} es el mayor\")\n"
      ],
      "metadata": {
        "id": "RxzUe7OGc8IV"
      },
      "execution_count": null,
      "outputs": []
    },
    {
      "cell_type": "code",
      "source": [
        "mayor(1,2,3)"
      ],
      "metadata": {
        "colab": {
          "base_uri": "https://localhost:8080/"
        },
        "id": "MbYOZe-vfYtn",
        "outputId": "faf44390-fad2-4b5f-9c8f-5bde5450f94c"
      },
      "execution_count": null,
      "outputs": [
        {
          "output_type": "stream",
          "name": "stdout",
          "text": [
            "3 es el mayor\n"
          ]
        }
      ]
    },
    {
      "cell_type": "markdown",
      "source": [
        "#3. Sumar los números de una lista de 3 elementos. Ejemplo [3,4,5]. Salida: 12"
      ],
      "metadata": {
        "id": "TZWeT_Pmg07V"
      }
    },
    {
      "cell_type": "code",
      "source": [
        "lista = [1,2,3]\n",
        "\n",
        "def sumar(lista):\n",
        "    suma = 0\n",
        "    for elemento in lista:\n",
        "        suma += elemento\n",
        "    return suma\n",
        "\n",
        "print(sumar(lista))"
      ],
      "metadata": {
        "colab": {
          "base_uri": "https://localhost:8080/"
        },
        "id": "ftrFw8pg1lVS",
        "outputId": "fe353b7b-98a6-41d7-d975-ba4f1f9bce05"
      },
      "execution_count": null,
      "outputs": [
        {
          "output_type": "stream",
          "name": "stdout",
          "text": [
            "6\n"
          ]
        }
      ]
    },
    {
      "cell_type": "markdown",
      "source": [
        "#4.Sumar los números de una lista de 4 elementos. Ejemplo [3,4,5,6]. Salida: 18\n"
      ],
      "metadata": {
        "id": "PKN5o_ql-Q4H"
      }
    },
    {
      "cell_type": "code",
      "source": [
        "lista = [1,2,3,4]\n",
        "\n",
        "def sumar(lista):\n",
        "    suma = 0\n",
        "    for numero in lista:\n",
        "        suma += numero\n",
        "    return suma\n",
        "\n",
        "print(\"La suma de sus 4 elementos es\", sumar(lista))"
      ],
      "metadata": {
        "colab": {
          "base_uri": "https://localhost:8080/"
        },
        "id": "5QrQE9QO2SKm",
        "outputId": "aacc2e8e-6e6a-4c8f-b62c-12ed928b4d1d"
      },
      "execution_count": null,
      "outputs": [
        {
          "output_type": "stream",
          "name": "stdout",
          "text": [
            "La suma de sus 4 elementos es 10\n"
          ]
        }
      ]
    },
    {
      "cell_type": "markdown",
      "source": [
        "#5. Sumar todos los números de una lista. Ejemplo: (8,5,3,1). Salida: 17"
      ],
      "metadata": {
        "id": "jIrUQvZ_u6bD"
      }
    },
    {
      "cell_type": "code",
      "source": [
        "def sumalistan(lista):\n",
        "    suma=0\n",
        "    for i in range(len(lista)):\n",
        "        suma=suma+lista[i]\n",
        "    return suma\n",
        "\n",
        "lista=[3, 4, 6, 7, 9, 5]\n",
        "print(\"La suma de todos sus elementos es\", sumalistan(lista))"
      ],
      "metadata": {
        "colab": {
          "base_uri": "https://localhost:8080/"
        },
        "id": "OtruWcOZt8zL",
        "outputId": "ffc33bc4-2e5c-49ff-a8e1-ba35ac6a10b1"
      },
      "execution_count": null,
      "outputs": [
        {
          "output_type": "stream",
          "name": "stdout",
          "text": [
            "La suma de todos sus elementos es 34\n"
          ]
        }
      ]
    },
    {
      "cell_type": "markdown",
      "source": [
        "#6. Multiplicar los números de una lista de 3 elementos. Ejemplo [0,4,5]. Salida: 0"
      ],
      "metadata": {
        "id": "SNRB7-v3B4kx"
      }
    },
    {
      "cell_type": "code",
      "source": [
        "a=int(input(\"Ingresa un número \" ))\n",
        "b=int(input(\"Ingresa un número \" ))\n",
        "c=int(input(\"Ingresa un número \" ))\n",
        "\n",
        "lista = [a,b,c]\n",
        "\n",
        "def multiplica(lista):\n",
        "    multiplicar = 1\n",
        "    for i in lista:\n",
        "        multiplicar *= i\n",
        "    return multiplicar\n",
        "\n",
        "print(\"La multiplicación de sus 3 elementos es\", multiplica(lista))"
      ],
      "metadata": {
        "id": "ynSGELAAfyh-",
        "colab": {
          "base_uri": "https://localhost:8080/"
        },
        "outputId": "131c3cf6-3fbb-4b3a-d9e7-35496d62da4c"
      },
      "execution_count": null,
      "outputs": [
        {
          "output_type": "stream",
          "name": "stdout",
          "text": [
            "Ingresa un número 1\n",
            "Ingresa un número 2\n",
            "Ingresa un número 3\n",
            "La multiplicación de sus 3 elementos es 6\n"
          ]
        }
      ]
    },
    {
      "cell_type": "markdown",
      "source": [
        "#7. Multiplicar los números de una lista de 4 elementos. Ejemplo [3,4,5,1]. Salida: 60"
      ],
      "metadata": {
        "id": "EeaXZF_VC9nO"
      }
    },
    {
      "cell_type": "code",
      "source": [
        "a=int(input(\"Ingresa un número \" ))\n",
        "b=int(input(\"Ingresa un número \" ))\n",
        "c=int(input(\"Ingresa un número \" ))\n",
        "d=int(input(\"Ingresa un número \" ))\n",
        "\n",
        "lista = [a,b,c,d]\n",
        "\n",
        "def multiplica(lista):\n",
        "    multiplicar = 1\n",
        "    for i in lista:\n",
        "        multiplicar *= i\n",
        "    return multiplicar\n",
        "\n",
        "print(\"La multiplicación de la lista de sus cuatro elementos es\", multiplica(lista))"
      ],
      "metadata": {
        "id": "B2Vug8vbfyYP",
        "colab": {
          "base_uri": "https://localhost:8080/"
        },
        "outputId": "511fff35-440f-4789-a119-1b8a0cc641a8"
      },
      "execution_count": null,
      "outputs": [
        {
          "output_type": "stream",
          "name": "stdout",
          "text": [
            "Ingresa un número 1\n",
            "Ingresa un número 2\n",
            "Ingresa un número 3\n",
            "Ingresa un número 4\n",
            "La multiplicación de la lista de sus cuatro elementos es 24\n"
          ]
        }
      ]
    },
    {
      "cell_type": "markdown",
      "source": [
        "#8. Multiplicar todos los números de una lista. Ejemplo: (1,2,3,-1). Salida: -6"
      ],
      "metadata": {
        "id": "ece2yTAbC-xJ"
      }
    },
    {
      "cell_type": "code",
      "source": [
        "def multilistan(lista):\n",
        "    multi=1\n",
        "    for i in range(len(lista)):\n",
        "        multi=multi*lista[i]\n",
        "    return multi\n",
        "\n",
        "lista=[3, 4, 6, 7, 9, 5]\n",
        "print(\"La multiplicación de todos sus elementos es\", multilistan(lista))"
      ],
      "metadata": {
        "id": "GUDAOV5cfyT3",
        "colab": {
          "base_uri": "https://localhost:8080/"
        },
        "outputId": "6aea7f33-837a-4333-8f6f-1cab3b39c9d0"
      },
      "execution_count": null,
      "outputs": [
        {
          "output_type": "stream",
          "name": "stdout",
          "text": [
            "La multiplicación de todos sus elementos es 22680\n"
          ]
        }
      ]
    },
    {
      "cell_type": "markdown",
      "source": [
        "#10. Calcular el factorial de un número"
      ],
      "metadata": {
        "id": "PWgn6jKSbPDp"
      }
    },
    {
      "cell_type": "code",
      "execution_count": null,
      "metadata": {
        "colab": {
          "base_uri": "https://localhost:8080/"
        },
        "id": "xSghGIadakoI",
        "outputId": "2edb3b59-8dd7-4a98-d558-d6ea40c09b4d"
      },
      "outputs": [
        {
          "output_type": "stream",
          "name": "stdout",
          "text": [
            "Ingrese un numero para calcular su factorial: 5\n",
            "El factorial de  5  es:  120\n"
          ]
        }
      ],
      "source": [
        "def factorial(num): \n",
        "    if num < 0: \n",
        "        print(\"Factorial negativo no existe\")\n",
        "\n",
        "    elif num == 0: \n",
        "        return 1\n",
        "        \n",
        "    else: \n",
        "        fact = 1\n",
        "        while(num > 1): \n",
        "            fact *= num \n",
        "            num -= 1\n",
        "        return fact \n",
        "\n",
        "num = int(input(\"Ingrese un numero para calcular su factorial: \")); \n",
        "print(\"El factorial de \", num ,\" es: \", factorial(num))"
      ]
    },
    {
      "cell_type": "markdown",
      "source": [
        "#14. Reciba una lista y retorne sólo los elementos pares"
      ],
      "metadata": {
        "id": "UA-WkH6MSYuo"
      }
    },
    {
      "cell_type": "code",
      "source": [
        "def par (número):\n",
        "    nompar = []\n",
        "\n",
        "    for n in número:\n",
        "        if n % 2 == 0:\n",
        "           nompar.append(n)\n",
        "\n",
        "    return nompar\n",
        "\n",
        "número = (1, 2, 1, 2, 1, 2, 1, 2)\n",
        "resul = par(número)\n",
        "\n",
        "print(\"Los números pares de esta lista son:\", resul)\n"
      ],
      "metadata": {
        "id": "yMFS4tioSdUs",
        "colab": {
          "base_uri": "https://localhost:8080/"
        },
        "outputId": "8105b6ca-b020-49bf-c6d5-1371c6da59b5"
      },
      "execution_count": 43,
      "outputs": [
        {
          "output_type": "stream",
          "name": "stdout",
          "text": [
            "Los números pares de esta lista son: [2, 2, 2, 2]\n"
          ]
        }
      ]
    }
  ]
}