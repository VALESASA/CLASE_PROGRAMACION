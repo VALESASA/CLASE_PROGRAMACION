{
  "nbformat": 4,
  "nbformat_minor": 0,
  "metadata": {
    "colab": {
      "name": "TALLER 1",
      "provenance": []
    },
    "kernelspec": {
      "name": "python3",
      "display_name": "Python 3"
    },
    "language_info": {
      "name": "python"
    }
  },
  "cells": [
    {
      "cell_type": "markdown",
      "source": [
        "#TALLER 1\n"
      ],
      "metadata": {
        "id": "lYvqNa1jqtgL"
      }
    },
    {
      "cell_type": "markdown",
      "source": [
        "##EJERCICIO 1\n",
        "### 1.\tEscriba un programa que solicite dos números enteros y calcule su división. El programa debe definir si la división es exacta o no. Si no es exacta, debe imprimir cuál es su residuo. ¿Qué debería imprimir el programa si la división es entre cero?"
      ],
      "metadata": {
        "id": "uV-a8BdIq5v4"
      }
    },
    {
      "cell_type": "code",
      "source": [
        "num=int(input(\"Inserte el primer número \"))\n",
        "nom=int(input(\"Inserte el segundo número \"))\n",
        "\n",
        "if nom == 0:\n",
        "  print(f\"Todo numero dividido entre 0 es indeterminado (error)\")\n",
        "\n",
        "else:\n",
        "  r=num/nom\n",
        "  j=num % nom\n",
        "  \n",
        "  if r % 2==0:\n",
        "    print(f\"El resultado de la operación es: {r}\")\n",
        "    \n",
        "  else:\n",
        "    print(f\"La división es inexacta, su residuo es: {j}\")\n"
      ],
      "metadata": {
        "colab": {
          "base_uri": "https://localhost:8080/"
        },
        "id": "ssLqJ2nMtBuM",
        "outputId": "25fcc7de-7af9-4b5a-87c3-75d1c949211a"
      },
      "execution_count": 33,
      "outputs": [
        {
          "output_type": "stream",
          "name": "stdout",
          "text": [
            "Inserte el primer número 8\n",
            "Inserte el segundo número 9\n",
            "La división es inexacta, su residuo es: 8\n"
          ]
        }
      ]
    },
    {
      "cell_type": "markdown",
      "source": [
        "##EJERCICIO 2\n",
        "### 2.\tEscriba un programa que pida dos números e indique si uno es múltiplo del otro.\n"
      ],
      "metadata": {
        "id": "CEM2h5sq4Saq"
      }
    },
    {
      "cell_type": "code",
      "source": [
        "A=int(input(\"Inserte el primer número \"))\n",
        "C=int(input(\"Inserte el segundo número \"))\n",
        "\n",
        "if C == 0:\n",
        "  print(f\"Estas dividiendo entre 0, entonces no sabras si son multiplos (error)\")\n",
        "\n",
        "else:\n",
        "  w=A/C\n",
        "  q=A % C\n",
        "  \n",
        "  if w % 2==0:\n",
        "    print(f\"Estas en lo correcto estos dos números son multiplos y su resultado es: {w}\")\n",
        "    \n",
        "  else:\n",
        "    print(f\"Estos dos números no son multiplos y por lo tanto su resultado es: {w}\")"
      ],
      "metadata": {
        "colab": {
          "base_uri": "https://localhost:8080/"
        },
        "id": "4VrsQoJZ7X_y",
        "outputId": "14edc5cc-3b8c-4b1b-c725-e72ec5788d80"
      },
      "execution_count": 51,
      "outputs": [
        {
          "output_type": "stream",
          "name": "stdout",
          "text": [
            "Inserte el primer número 10\n",
            "Inserte el segundo número 5\n",
            "Estas en lo correcto estos dos números son multiplos y su resultado es: 2.0\n"
          ]
        }
      ]
    },
    {
      "cell_type": "markdown",
      "source": [
        "##EJERCICIO 3"
      ],
      "metadata": {
        "id": "a9nm-PJF7Ama"
      }
    },
    {
      "cell_type": "markdown",
      "source": [
        "### 3.\tEscriba un programa que ordene, de menor a mayor, las edades de tres hermanos. ¿Qué pasaría si son gemelos? ¿Qué pasaría si son trillizos?"
      ],
      "metadata": {
        "id": "5EPxqG4p7EGq"
      }
    },
    {
      "cell_type": "code",
      "source": [
        "n1=(input(\"Inserta tu nombre \"))\n",
        "p1=int(input(\"Inserta tu edad \"))\n",
        "n2=(input(\"Inserta tu nombre \"))\n",
        "s2=int(input(\"Inserta tu edad \"))\n",
        "n3=(input(\"Inserta tu nombre \"))\n",
        "t3=int(input(\"Inserta tu edad \"))\n",
        "\n",
        "if p1 > s2 and p1 > t3:\n",
        "  n1+ \"Es el primer hermano entre los 3\"\n",
        "  "
      ],
      "metadata": {
        "colab": {
          "base_uri": "https://localhost:8080/"
        },
        "id": "oaIVyGNA7J3Y",
        "outputId": "cd4816d7-5582-4e0d-b7e9-fdf9332da767"
      },
      "execution_count": 48,
      "outputs": [
        {
          "name": "stdout",
          "output_type": "stream",
          "text": [
            "Inserta tu nombre vale\n",
            "Inserta tu edad 14\n",
            "Inserta tu nombre gd\n",
            "Inserta tu edad 12\n",
            "Inserta tu nombre uajshg\n",
            "Inserta tu edad 36\n"
          ]
        }
      ]
    }
  ]
}