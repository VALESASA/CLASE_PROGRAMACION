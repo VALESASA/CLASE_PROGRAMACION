{
  "nbformat": 4,
  "nbformat_minor": 0,
  "metadata": {
    "colab": {
      "provenance": []
    },
    "kernelspec": {
      "name": "python3",
      "display_name": "Python 3"
    },
    "language_info": {
      "name": "python"
    }
  },
  "cells": [
    {
      "cell_type": "markdown",
      "source": [
        "#Requerir al usuario que ingrese un número entero e informar si es primo o no "
      ],
      "metadata": {
        "id": "yfhIg-J2EHFu"
      }
    },
    {
      "cell_type": "code",
      "execution_count": 3,
      "metadata": {
        "colab": {
          "base_uri": "https://localhost:8080/"
        },
        "id": "RhzFbHE7B1fa",
        "outputId": "fa481cd0-be6b-4cdf-c41f-a782bfb6dfa5"
      },
      "outputs": [
        {
          "output_type": "stream",
          "name": "stdout",
          "text": [
            "Ingresa un número: 4\n",
            "El número 4 no es primo\n"
          ]
        }
      ],
      "source": [
        "n = int(input(\"Ingresa un número: \"))\n",
        "x = 1\n",
        "c = 0\n",
        "while x <= n:\n",
        "    if n % x == 0:\n",
        "      c = c + 1\n",
        "    x = x + 1\n",
        "if c == 2:\n",
        "     print(\"El número\",n,\"es primo\")\n",
        "else:\n",
        "    print(\"El número\",n,\"no es primo\")\n"
      ]
    },
    {
      "cell_type": "markdown",
      "source": [
        "#El siguiente programa debería imprimir el número 2 si se le ingresan como valores x=5, y=1 pero en su lugar imprime 5. ¿Qué hay que corregir?\n",
        "\n"
      ],
      "metadata": {
        "id": "woowYKGPEn_4"
      }
    },
    {
      "cell_type": "code",
      "source": [
        "def maximo(a,b):\n",
        "  if x>y:\n",
        "    return x\n",
        "  else:\n",
        "    return y\n",
        "\n",
        " \n",
        "def minimo(a,b):\n",
        "  if x<y:\n",
        "    return x\n",
        "  else:\n",
        "    return y\n",
        "\n",
        "x=int(input(\"Un número: \"))\n",
        "y=int(input(\"Otro número: \"))\n",
        "print(maximo(x-3, minimo(x+2, y-5)))"
      ],
      "metadata": {
        "id": "Du5rHC1dLiic"
      },
      "execution_count": null,
      "outputs": []
    },
    {
      "cell_type": "markdown",
      "source": [
        "###En este caso el programa de arriba esta mal porque el siempre va a retornar a 5 por el hecho de que a y b no estan en if ni en else y la función de abajo x+2, y-5 esta siempre va a retornar a 5. En cambio en el programa de abajo en if y else si se menciona a y b por eso en la función si se retorna cualquier número\n"
      ],
      "metadata": {
        "id": "5zIKkzQXLtmo"
      }
    },
    {
      "cell_type": "code",
      "source": [
        "def maximo(a,b):\n",
        "  if a>b:\n",
        "    return a\n",
        "  else:\n",
        "    return b\n",
        "\n",
        " \n",
        "def minimo(a,b):\n",
        "  if a<b:\n",
        "    return a\n",
        "  else:\n",
        "    return b\n",
        "\n",
        "x=int(input(\"Un número: \"))\n",
        "y=int(input(\"Otro número: \"))\n",
        "print(maximo(x-3, minimo(x+2, y-5)))"
      ],
      "metadata": {
        "colab": {
          "base_uri": "https://localhost:8080/"
        },
        "id": "Ttdl6hDaF73A",
        "outputId": "24a4c638-9acd-4c4e-ce26-0230377c60cd"
      },
      "execution_count": 11,
      "outputs": [
        {
          "output_type": "stream",
          "name": "stdout",
          "text": [
            "Un número: 4\n",
            "Otro número: 6\n",
            "1\n"
          ]
        }
      ]
    },
    {
      "cell_type": "markdown",
      "source": [
        "#La función \"informacionPersonal\" recoge la información personal de una persona\n",
        "def informacionPersonal (nombre, edad, país):\n",
        "    name = \"Juana de Arco\"\n",
        "    age = 19\n",
        "    country = \"Francia\"\n",
        "print (nombre + \", de \" + país + \", tiene \" + str(edad) + \" años de edad.\")\n",
        "#Agrega una línea en la función que devuelva las variables \"name\", \"age\" y \"country\".\n",
        "#Luego, afuera de la función, en la línea 8, llámala\n",
        "#Guarda el valor de llamar a esa función en las variables \"nombre\", \"edad\" y \"país\".\n",
        "#Corre el programa. Debería imprimir el siguiente texto:\n",
        "#Juana de Arco, de Francia, tiene 10 años de edad.\n",
        "\n"
      ],
      "metadata": {
        "id": "ne7YtTcHOpKe"
      }
    },
    {
      "cell_type": "code",
      "source": [
        "def informacionPersonal (nombre, edad, país):\n",
        "    name = \"Juana de Arco\"\n",
        "    age = 19\n",
        "    country = \"Francia\"\n",
        "\n",
        "    return [name, age, country]\n",
        "\n",
        "def in (nombre, edad, país): \n",
        "  print (nombre+ \", de \" +país+ \", tiene \" +str(edad)+ \" años de edad.\")"
      ],
      "metadata": {
        "colab": {
          "base_uri": "https://localhost:8080/",
          "height": 130
        },
        "id": "cA0QzRjFOokf",
        "outputId": "6693d97c-1bc0-41e1-821b-aaa65f2f5689"
      },
      "execution_count": 25,
      "outputs": [
        {
          "output_type": "error",
          "ename": "SyntaxError",
          "evalue": "ignored",
          "traceback": [
            "\u001b[0;36m  File \u001b[0;32m\"<ipython-input-25-671b692f2ac8>\"\u001b[0;36m, line \u001b[0;32m8\u001b[0m\n\u001b[0;31m    def in (nombre, edad, país):\u001b[0m\n\u001b[0m         ^\u001b[0m\n\u001b[0;31mSyntaxError\u001b[0m\u001b[0;31m:\u001b[0m invalid syntax\n"
          ]
        }
      ]
    }
  ]
}